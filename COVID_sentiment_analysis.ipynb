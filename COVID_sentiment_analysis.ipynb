{
  "nbformat": 4,
  "nbformat_minor": 0,
  "metadata": {
    "colab": {
      "name": "COVID_sentiment_analysis_20162450.ipynb",
      "provenance": [],
      "collapsed_sections": []
    },
    "kernelspec": {
      "name": "python3",
      "display_name": "Python 3"
    },
    "language_info": {
      "name": "python"
    }
  },
  "cells": [
    {
      "cell_type": "markdown",
      "metadata": {
        "id": "W4QbRzuCoQdJ"
      },
      "source": [
        "# Sentiment Analysis of COVID Tweets\n",
        "\n",
        "Ariana Puri, 20162450"
      ]
    },
    {
      "cell_type": "code",
      "metadata": {
        "colab": {
          "base_uri": "https://localhost:8080/"
        },
        "id": "D5rc6wPcbjpL",
        "outputId": "f65b81d4-147a-4b05-e990-73d37fd8a7a9"
      },
      "source": [
        "! pip install kaggle"
      ],
      "execution_count": 1,
      "outputs": [
        {
          "output_type": "stream",
          "name": "stdout",
          "text": [
            "Requirement already satisfied: kaggle in /usr/local/lib/python3.7/dist-packages (1.5.12)\n",
            "Requirement already satisfied: requests in /usr/local/lib/python3.7/dist-packages (from kaggle) (2.23.0)\n",
            "Requirement already satisfied: python-dateutil in /usr/local/lib/python3.7/dist-packages (from kaggle) (2.8.2)\n",
            "Requirement already satisfied: python-slugify in /usr/local/lib/python3.7/dist-packages (from kaggle) (5.0.2)\n",
            "Requirement already satisfied: tqdm in /usr/local/lib/python3.7/dist-packages (from kaggle) (4.62.3)\n",
            "Requirement already satisfied: urllib3 in /usr/local/lib/python3.7/dist-packages (from kaggle) (1.24.3)\n",
            "Requirement already satisfied: six>=1.10 in /usr/local/lib/python3.7/dist-packages (from kaggle) (1.15.0)\n",
            "Requirement already satisfied: certifi in /usr/local/lib/python3.7/dist-packages (from kaggle) (2021.10.8)\n",
            "Requirement already satisfied: text-unidecode>=1.3 in /usr/local/lib/python3.7/dist-packages (from python-slugify->kaggle) (1.3)\n",
            "Requirement already satisfied: idna<3,>=2.5 in /usr/local/lib/python3.7/dist-packages (from requests->kaggle) (2.10)\n",
            "Requirement already satisfied: chardet<4,>=3.0.2 in /usr/local/lib/python3.7/dist-packages (from requests->kaggle) (3.0.4)\n"
          ]
        }
      ]
    },
    {
      "cell_type": "code",
      "metadata": {
        "id": "UPSH3Gv7btWm"
      },
      "source": [
        "! mkdir ~/.kaggle"
      ],
      "execution_count": 2,
      "outputs": []
    },
    {
      "cell_type": "code",
      "metadata": {
        "id": "SIfrDC0CbvpV"
      },
      "source": [
        "! cp kaggle.json ~/.kaggle/"
      ],
      "execution_count": 3,
      "outputs": []
    },
    {
      "cell_type": "code",
      "metadata": {
        "id": "TBceH-5_bxL0"
      },
      "source": [
        "! chmod 600 ~/.kaggle/kaggle.json"
      ],
      "execution_count": 4,
      "outputs": []
    },
    {
      "cell_type": "code",
      "metadata": {
        "colab": {
          "base_uri": "https://localhost:8080/"
        },
        "id": "xF2nbtqH9EjA",
        "outputId": "2845b56c-8cc9-4225-f287-c173f44dc809"
      },
      "source": [
        "! kaggle datasets download datatattle/covid-19-nlp-text-classification"
      ],
      "execution_count": 5,
      "outputs": [
        {
          "output_type": "stream",
          "name": "stdout",
          "text": [
            "Downloading covid-19-nlp-text-classification.zip to /content\n",
            "\r  0% 0.00/4.38M [00:00<?, ?B/s]\n",
            "\r100% 4.38M/4.38M [00:00<00:00, 123MB/s]\n"
          ]
        }
      ]
    },
    {
      "cell_type": "code",
      "metadata": {
        "colab": {
          "base_uri": "https://localhost:8080/"
        },
        "id": "Lm9Rheihjh_r",
        "outputId": "e2a53d4c-7be1-4707-cc5b-b6413260ad42"
      },
      "source": [
        "! unzip covid-19-nlp-text-classification.zip"
      ],
      "execution_count": 6,
      "outputs": [
        {
          "output_type": "stream",
          "name": "stdout",
          "text": [
            "Archive:  covid-19-nlp-text-classification.zip\n",
            "  inflating: Corona_NLP_test.csv     \n",
            "  inflating: Corona_NLP_train.csv    \n"
          ]
        }
      ]
    },
    {
      "cell_type": "code",
      "metadata": {
        "colab": {
          "base_uri": "https://localhost:8080/"
        },
        "id": "rlRLZZaAbBbn",
        "outputId": "d810bc88-2ebc-4f27-d831-ecf3215bd670"
      },
      "source": [
        "import nltk\n",
        "nltk.download('wordnet')"
      ],
      "execution_count": 7,
      "outputs": [
        {
          "output_type": "stream",
          "name": "stdout",
          "text": [
            "[nltk_data] Downloading package wordnet to /root/nltk_data...\n",
            "[nltk_data]   Unzipping corpora/wordnet.zip.\n"
          ]
        },
        {
          "output_type": "execute_result",
          "data": {
            "text/plain": [
              "True"
            ]
          },
          "metadata": {},
          "execution_count": 7
        }
      ]
    },
    {
      "cell_type": "code",
      "metadata": {
        "id": "i_vLGQEjoI9f"
      },
      "source": [
        "import tensorflow as tf\n",
        "from tensorflow.keras.preprocessing.text import Tokenizer \n",
        "import matplotlib.pyplot as plt\n",
        "import csv\n",
        "import numpy as np\n",
        "import pandas as pd\n",
        "import argparse\n",
        "\n",
        "# Convert the output to a binary to simplify neural net\n",
        "def convert_sentiment(data):\n",
        "    new_data = data[data.Sentiment != 'Neutral']\n",
        "    new_data = new_data.reset_index(drop=True)\n",
        "    for x in range(0, len(new_data['Sentiment'])):\n",
        "        if (new_data['Sentiment'][x] == 'Extremely Positive') or (new_data['Sentiment'][x] == 'Positive'):\n",
        "            new_data['Sentiment'][x] = 1\n",
        "        elif new_data['Sentiment'][x] == 'Negative' or new_data['Sentiment'][x] == 'Extremely Negative':\n",
        "            new_data['Sentiment'][x] = 0\n",
        "\n",
        "    return new_data\n",
        "            \n",
        "\n",
        "# Process the inputed tweets\n",
        "def pre_process(line):\n",
        "    new_words = []\n",
        "    lem = nltk.WordNetLemmatizer()\n",
        "    for word in line.split():\n",
        "      # Remove links and user names\n",
        "        if not (word == '' or word.startswith('http') or word.startswith('www') or word.startswith('@')):\n",
        "            if word.startswith('#'):\n",
        "                word = word[1:]\n",
        "            word = ''.join(e for e in word if e.isalnum())\n",
        "            word = word.lower()\n",
        "            if word != '':\n",
        "                # Find the root of the words\n",
        "                word = lem.lemmatize(word)\n",
        "                new_words.append(word)\n",
        "    return bytes(' '.join(new_words), 'utf-8')\n",
        "\n",
        "# tokenizes the tweets so that they can be input into the neural net\n",
        "def encode(tweets):\n",
        "  max_len = 500\n",
        "  tok = Tokenizer()\n",
        "  tok.fit_on_texts(tweets)\n",
        "  sequences = tok.texts_to_sequences(tweets)\n",
        "  num_words = len(tok.word_index) + 1\n",
        "  return num_words, tok, sequences\n",
        "\n",
        "# preprocess the data\n",
        "def create_ds(file_location):\n",
        "    data = pd.read_csv(file_location, encoding = \"ISO-8859-1\")\n",
        "    data = data.drop(columns=['UserName', 'ScreenName', 'Location', 'TweetAt'])\n",
        "    data = convert_sentiment(data)   \n",
        "    for x in range(0, len(data['OriginalTweet'])):\n",
        "        data['OriginalTweet'][x] = pre_process(data['OriginalTweet'][x]).decode(\"utf-8\") \n",
        "    return data['OriginalTweet'], data['Sentiment'].to_numpy()"
      ],
      "execution_count": 17,
      "outputs": []
    },
    {
      "cell_type": "code",
      "metadata": {
        "id": "51pYoYr5cKWi"
      },
      "source": [
        "x_train, y_train  = create_ds(\"Corona_NLP_train.csv\")\n",
        "x_test, y_test  = create_ds(\"Corona_NLP_test.csv\")"
      ],
      "execution_count": 18,
      "outputs": []
    },
    {
      "cell_type": "code",
      "metadata": {
        "id": "C7t33mLCeuOy"
      },
      "source": [
        "# Find the size of the vocabulary for the embedding layer\n",
        "vocab_size, tok, x_train = encode(x_train)\n",
        "x_test = tok.texts_to_sequences(x_test)\n",
        "\n",
        "# Find the longest tweet for the vocabulary layer\n",
        "max_len = max(len(x) for x in x_train)\n",
        "\n",
        "# Pad tweets that are too short\n",
        "for x in range(0, len(x_train)):\n",
        "  if len(x_train[x]) < max_len:\n",
        "    x_train[x].append(0) \n",
        "\n",
        "for x in range(0, len(x_test)):\n",
        "  if len(x_test[x]) < max_len:\n",
        "    x_test[x].append(0) "
      ],
      "execution_count": 19,
      "outputs": []
    },
    {
      "cell_type": "code",
      "metadata": {
        "id": "KTRhvnpYw_0s"
      },
      "source": [
        "# Convert the current lists into tensorflow data so that it can be used in the neural net\n",
        "x_train = tf.ragged.constant(x_train, dtype = tf.int32)\n",
        "y_train = tf.convert_to_tensor(y_train, dtype = tf.int32)\n",
        "x_test = tf.ragged.constant(x_test, dtype = tf.int32)\n",
        "y_test = tf.convert_to_tensor(y_test, dtype = tf.int32)"
      ],
      "execution_count": 20,
      "outputs": []
    },
    {
      "cell_type": "code",
      "metadata": {
        "id": "9hEkNilJoUhQ"
      },
      "source": [
        "# Build a neural net with an embedding layer, lstm layer, two \n",
        "def build_model(vocab_size, max_len, out_shape):\n",
        "    new_model = tf.keras.Sequential(layers=None, name=None)\n",
        "    new_model.add(tf.keras.layers.Embedding(input_dim=vocab_size, output_dim=80, input_length=max_len))\n",
        "    new_model.add(tf.keras.layers.Bidirectional(tf.keras.layers.LSTM(50, input_shape = tf.shape(100))))\n",
        "    new_model.add(tf.keras.layers.Dense(30))\n",
        "    new_model.add(tf.keras.layers.Dense(10))\n",
        "    new_model.add(tf.keras.layers.Dense(1))\n",
        "    return new_model\n",
        "\n",
        "class RNN(object):\n",
        "  def __init__(self, vocab_size, max_len, out_shape):\n",
        "    self.model = build_model(vocab_size, max_len, out_shape)\n",
        "    \n",
        "  #train the data\n",
        "  def train(self, e, train_x, train_y, test_x, test_y):\n",
        "    self.model.compile(loss=tf.keras.losses.BinaryCrossentropy(from_logits=True), optimizer=tf.keras.optimizers.Adam(1e-4), metrics=['accuracy'])\n",
        "    history = self.model.fit(train_x, train_y, epochs = e, batch_size = 32)\n",
        "\n",
        "    loss, accuracy = self.model.evaluate(test_x, test_y)\n",
        "    print('Test Loss:', loss)\n",
        "    print('Test Accuracy:', accuracy)\n",
        "\n",
        "    return history"
      ],
      "execution_count": 21,
      "outputs": []
    },
    {
      "cell_type": "code",
      "metadata": {
        "id": "Kz56_ICeN-sl",
        "colab": {
          "base_uri": "https://localhost:8080/"
        },
        "outputId": "4c1d404f-7840-439c-eba7-96760e34ecb9"
      },
      "source": [
        "out_shape = len(y_train)\n",
        "\n",
        "model = RNN(vocab_size, max_len, out_shape)\n",
        "history = model.train(10, x_train, y_train, x_test, y_test)"
      ],
      "execution_count": 22,
      "outputs": [
        {
          "output_type": "stream",
          "name": "stdout",
          "text": [
            "Epoch 1/10\n"
          ]
        },
        {
          "output_type": "stream",
          "name": "stderr",
          "text": [
            "/usr/local/lib/python3.7/dist-packages/tensorflow/python/framework/indexed_slices.py:450: UserWarning: Converting sparse IndexedSlices(IndexedSlices(indices=Tensor(\"Adam/gradients/concat_1:0\", shape=(None,), dtype=int32), values=Tensor(\"Adam/gradients/concat:0\", shape=(None, 80), dtype=float32), dense_shape=Tensor(\"gradient_tape/sequential_1/bidirectional_1/forward_lstm_1/RaggedToTensor/Shape:0\", shape=(2,), dtype=int32))) to a dense Tensor of unknown shape. This may consume a large amount of memory.\n",
            "  \"shape. This may consume a large amount of memory.\" % value)\n"
          ]
        },
        {
          "output_type": "stream",
          "name": "stdout",
          "text": [
            "1046/1046 [==============================] - 119s 110ms/step - loss: 0.5092 - accuracy: 0.6960\n",
            "Epoch 2/10\n",
            "1046/1046 [==============================] - 113s 108ms/step - loss: 0.2543 - accuracy: 0.8978\n",
            "Epoch 3/10\n",
            "1046/1046 [==============================] - 113s 108ms/step - loss: 0.1646 - accuracy: 0.9385\n",
            "Epoch 4/10\n",
            "1046/1046 [==============================] - 112s 107ms/step - loss: 0.1146 - accuracy: 0.9594\n",
            "Epoch 5/10\n",
            "1046/1046 [==============================] - 112s 107ms/step - loss: 0.0841 - accuracy: 0.9726\n",
            "Epoch 6/10\n",
            "1046/1046 [==============================] - 114s 109ms/step - loss: 0.0663 - accuracy: 0.9780\n",
            "Epoch 7/10\n",
            "1046/1046 [==============================] - 112s 107ms/step - loss: 0.0533 - accuracy: 0.9819\n",
            "Epoch 8/10\n",
            "1046/1046 [==============================] - 112s 107ms/step - loss: 0.0425 - accuracy: 0.9859\n",
            "Epoch 9/10\n",
            "1046/1046 [==============================] - 114s 109ms/step - loss: 0.0355 - accuracy: 0.9882\n",
            "Epoch 10/10\n",
            "1046/1046 [==============================] - 113s 108ms/step - loss: 0.0298 - accuracy: 0.9899\n",
            "100/100 [==============================] - 2s 19ms/step - loss: 0.9375 - accuracy: 0.8270\n",
            "Test Loss: 0.9374812841415405\n",
            "Test Accuracy: 0.8269895911216736\n"
          ]
        }
      ]
    },
    {
      "cell_type": "code",
      "metadata": {
        "colab": {
          "base_uri": "https://localhost:8080/",
          "height": 266
        },
        "id": "RH2Qn6r54lOn",
        "outputId": "14db756b-3c6f-445c-91c2-f8b1a9452a48"
      },
      "source": [
        "plt.plot(history.history['accuracy'], label='train_acc')\n",
        "plt.legend()\n",
        "plt.show()"
      ],
      "execution_count": 23,
      "outputs": [
        {
          "output_type": "display_data",
          "data": {
            "image/png": "[encoded data removed]",
            "text/plain": [
              "<Figure size 432x288 with 1 Axes>"
            ]
          },
          "metadata": {
            "needs_background": "light"
          }
        }
      ]
    },
    {
      "cell_type": "code",
      "metadata": {
        "colab": {
          "base_uri": "https://localhost:8080/",
          "height": 265
        },
        "id": "yt9L0E9F5STD",
        "outputId": "1dbe19e6-cff3-48a5-8104-11763cd21b82"
      },
      "source": [
        "plt.plot(history.history['loss'], label='train_loss')\n",
        "plt.legend()\n",
        "plt.show()"
      ],
      "execution_count": 24,
      "outputs": [
        {
          "output_type": "display_data",
          "data": {
            "image/png": "[encoded data removed]",
            "text/plain": [
              "<Figure size 432x288 with 1 Axes>"
            ]
          },
          "metadata": {
            "needs_background": "light"
          }
        }
      ]
    }
  ]
}